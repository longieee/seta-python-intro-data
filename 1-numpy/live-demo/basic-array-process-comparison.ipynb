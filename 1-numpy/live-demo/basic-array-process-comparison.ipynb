{
 "cells": [
  {
   "cell_type": "code",
   "execution_count": 2,
   "metadata": {},
   "outputs": [],
   "source": [
    "import random\n",
    "import numpy as np\n",
    "\n",
    "num_elements = 10000000\n",
    "\n",
    "# Create an array of 10 million random integrers from 0 to 1000\n",
    "arr = np.random.randint(0, 1000, num_elements)"
   ]
  },
  {
   "cell_type": "code",
   "execution_count": 24,
   "metadata": {},
   "outputs": [
    {
     "data": {
      "text/plain": [
       "array([984, 487, 421, 339, 786, 513, 513,   9, 316, 613,   8, 266, 451,\n",
       "       537, 195, 929, 163, 917, 895,  18,  45, 877, 117, 933, 421, 569,\n",
       "       802, 614, 537, 983, 974, 792, 764, 663, 895, 100, 574, 113,  19,\n",
       "       386, 187, 826, 710, 965, 913, 120, 101, 582, 779, 994, 914,  20,\n",
       "       576,  45, 261, 803, 339, 236, 482,  40, 866, 700,  37, 521, 951,\n",
       "       989, 323, 915, 503, 766, 160, 575, 874, 681, 862, 225, 283, 665,\n",
       "       553, 617, 412,  56, 988, 248, 351, 621, 392, 441, 455, 227, 834,\n",
       "       763, 723,  29, 788, 252,  75,   7, 712, 449])"
      ]
     },
     "execution_count": 24,
     "metadata": {},
     "output_type": "execute_result"
    }
   ],
   "source": [
    "# Check first 100 elements of the array.\n",
    "arr[:100]"
   ]
  },
  {
   "attachments": {},
   "cell_type": "markdown",
   "metadata": {},
   "source": [
    "`timeit` cell magic reference: https://ipython.readthedocs.io/en/stable/interactive/magics.html#magic-timeit\n",
    "\n",
    "- Note: scale down the number of repeats to save time\n",
    "- I'm using `-r 100` so it's very slow!"
   ]
  },
  {
   "cell_type": "code",
   "execution_count": 30,
   "metadata": {},
   "outputs": [
    {
     "name": "stdout",
     "output_type": "stream",
     "text": [
      "1.24 s ± 35.4 ms per loop (mean ± std. dev. of 100 runs, 1 loop each)\n"
     ]
    }
   ],
   "source": [
    "%%timeit -r 100\n",
    "# Simple loop\n",
    "for i in range(num_elements):\n",
    "    arr[i] * 2"
   ]
  },
  {
   "cell_type": "code",
   "execution_count": 31,
   "metadata": {},
   "outputs": [
    {
     "name": "stdout",
     "output_type": "stream",
     "text": [
      "838 ms ± 30.9 ms per loop (mean ± std. dev. of 100 runs, 1 loop each)\n"
     ]
    }
   ],
   "source": [
    "%%timeit -r 100\n",
    "\n",
    "# List comprehension\n",
    "[x * 2 for x in arr]"
   ]
  },
  {
   "cell_type": "code",
   "execution_count": 32,
   "metadata": {},
   "outputs": [
    {
     "name": "stdout",
     "output_type": "stream",
     "text": [
      "11.3 ms ± 348 µs per loop (mean ± std. dev. of 100 runs, 100 loops each)\n"
     ]
    }
   ],
   "source": [
    "%%timeit -r 100\n",
    "\n",
    "# NumPy array scalar multiplication\n",
    "arr * 2"
   ]
  },
  {
   "cell_type": "code",
   "execution_count": 5,
   "metadata": {},
   "outputs": [
    {
     "data": {
      "text/plain": [
       "[967, 545, 226, 247, 799, 759, 225, 503, 964, 9]"
      ]
     },
     "execution_count": 5,
     "metadata": {},
     "output_type": "execute_result"
    }
   ],
   "source": [
    "test = [random.randint(1, 1000) for i in range(10)]\n",
    "test"
   ]
  }
 ],
 "metadata": {
  "kernelspec": {
   "display_name": "intro-data",
   "language": "python",
   "name": "python3"
  },
  "language_info": {
   "codemirror_mode": {
    "name": "ipython",
    "version": 3
   },
   "file_extension": ".py",
   "mimetype": "text/x-python",
   "name": "python",
   "nbconvert_exporter": "python",
   "pygments_lexer": "ipython3",
   "version": "3.11.2"
  },
  "orig_nbformat": 4
 },
 "nbformat": 4,
 "nbformat_minor": 2
}
