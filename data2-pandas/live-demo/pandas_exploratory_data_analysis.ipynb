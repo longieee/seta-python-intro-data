{
  "cells": [
    {
      "attachments": {},
      "cell_type": "markdown",
      "metadata": {
        "colab_type": "text",
        "id": "5WNm0Jm7Sg_B"
      },
      "source": [
        "# **Exploratory Data Analysis in Python using pandas**\n",
        "\n",
        "In this Jupyter notebook, I will be showing you how to perform Exploratory Data Analysis on web scraped data of NBA player stats"
      ]
    },
    {
      "attachments": {},
      "cell_type": "markdown",
      "metadata": {
        "colab_type": "text",
        "id": "fhVY2xJJS0FU"
      },
      "source": [
        "## **Web scraping data using pandas**\n",
        "\n",
        "The following block of code will retrieve the \"2021-22 NBA Player Stats: Per Game\" data from http://www.basketball-reference.com/."
      ]
    },
    {
      "cell_type": "code",
      "execution_count": null,
      "metadata": {
        "colab": {
          "base_uri": "https://localhost:8080/",
          "height": 419
        },
        "colab_type": "code",
        "id": "4sLS78K-S-r2",
        "outputId": "4c04670d-c466-471a-b13e-043b3d563b16"
      },
      "outputs": [],
      "source": [
        "import pandas as pd\n",
        "\n",
        "# Retrieve HTML table data\n",
        "url = 'https://www.basketball-reference.com/leagues/NBA_2022_per_game.html'\n",
        "html = pd.read_html(url, header = 0)\n",
        "df2022 = html[0]"
      ]
    },
    {
      "cell_type": "code",
      "execution_count": null,
      "metadata": {},
      "outputs": [],
      "source": [
        "df2022"
      ]
    },
    {
      "attachments": {},
      "cell_type": "markdown",
      "metadata": {},
      "source": [
        "Check the \"Age\" column. Do we need to do anything?"
      ]
    },
    {
      "cell_type": "code",
      "execution_count": null,
      "metadata": {},
      "outputs": [],
      "source": [
        "df2022.Age.value_counts()"
      ]
    },
    {
      "cell_type": "code",
      "execution_count": null,
      "metadata": {},
      "outputs": [],
      "source": [
        "# Data cleaning if needed"
      ]
    },
    {
      "attachments": {},
      "cell_type": "markdown",
      "metadata": {
        "colab_type": "text",
        "id": "KzglK9XYVorP"
      },
      "source": [
        "## **Acronyms**\n",
        "\n",
        "\n",
        "Acronym | Description\n",
        "---|---\n",
        "Rk | Rank\n",
        "Pos | Position\n",
        "Age | Player's age on February 1 of the season\n",
        "Tm | Team\n",
        "G | Games\n",
        "GS | Games Started\n",
        "MP | Minutes Played Per Game\n",
        "FG | Field Goals Per Game\n",
        "FGA | Field Goal Attempts Per Game\n",
        "FG% | Field Goal Percentage\n",
        "3P | 3-Point Field Goals Per Game\n",
        "3PA | 3-Point Field Goal Attempts Per Game\n",
        "3P% | FG% on 3-Pt FGAs.\n",
        "2P | 2-Point Field Goals Per Game\n",
        "2PA | 2-Point Field Goal Attempts Per Game\n",
        "2P% | FG% on 2-Pt FGAs.\n",
        "eFG% | Effective Field Goal Percentage\n",
        "| *(Note: This statistic adjusts for the fact that a 3-point field goal is worth one more point than a 2-point field goal.)*\n",
        "FT | Free Throws Per Game\n",
        "FTA | Free Throw Attempts Per Game\n",
        "FT% | Free Throw Percentage\n",
        "ORB | Offensive Rebounds Per Game\n",
        "DRB | Defensive Rebounds Per Game\n",
        "TRB | Total Rebounds Per Game\n",
        "AST | Assists Per Game\n",
        "STL | Steals Per Game\n",
        "BLK | Blocks Per Game\n",
        "TOV | Turnovers Per Game\n",
        "PF | Personal Fouls Per Game\n",
        "PTS | Points Per Game"
      ]
    },
    {
      "attachments": {},
      "cell_type": "markdown",
      "metadata": {
        "colab_type": "text",
        "id": "Wt3Ttu15xU0K"
      },
      "source": [
        "## **Data cleaning**"
      ]
    },
    {
      "attachments": {},
      "cell_type": "markdown",
      "metadata": {
        "colab_type": "text",
        "id": "in9Z-pBU4tjV"
      },
      "source": [
        "### Data dimension"
      ]
    },
    {
      "attachments": {},
      "cell_type": "markdown",
      "metadata": {},
      "source": []
    },
    {
      "attachments": {},
      "cell_type": "markdown",
      "metadata": {
        "colab_type": "text",
        "id": "fLm75CFV4yEK"
      },
      "source": [
        "### Dataframe contents"
      ]
    },
    {
      "attachments": {},
      "cell_type": "markdown",
      "metadata": {
        "colab_type": "text",
        "id": "EITj70Uj5ExV"
      },
      "source": [
        "### Check for missing values"
      ]
    },
    {
      "attachments": {},
      "cell_type": "markdown",
      "metadata": {
        "colab_type": "text",
        "id": "Dr8qinan59_d"
      },
      "source": [
        "### Replace missing values with 0 "
      ]
    },
    {
      "attachments": {},
      "cell_type": "markdown",
      "metadata": {
        "colab_type": "text",
        "id": "iHz_ehmSd_SP"
      },
      "source": [
        "## **Exploratory Data Analysis**"
      ]
    },
    {
      "attachments": {},
      "cell_type": "markdown",
      "metadata": {
        "colab_type": "text",
        "id": "fAk-QoV_d_SJ"
      },
      "source": [
        "#### Displays the dataframe"
      ]
    },
    {
      "cell_type": "code",
      "execution_count": null,
      "metadata": {
        "colab": {
          "base_uri": "https://localhost:8080/",
          "height": 419
        },
        "colab_type": "code",
        "id": "TwW8LAgVd_SE",
        "outputId": "3165264f-54a1-4d40-a29f-b09bf6006faa"
      },
      "outputs": [],
      "source": [
        "df"
      ]
    },
    {
      "attachments": {},
      "cell_type": "markdown",
      "metadata": {
        "colab_type": "text",
        "id": "9bVSYvfzd_Rw"
      },
      "source": [
        "### Overview of data types of each columns in the dataframe"
      ]
    },
    {
      "attachments": {},
      "cell_type": "markdown",
      "metadata": {
        "colab_type": "text",
        "id": "ls339eZId_Rr"
      },
      "source": [
        "### Show specific data types in dataframe"
      ]
    },
    {
      "attachments": {},
      "cell_type": "markdown",
      "metadata": {
        "colab_type": "text",
        "id": "kdLdK6U31rOH"
      },
      "source": [
        "## **QUESTIONS**"
      ]
    },
    {
      "attachments": {},
      "cell_type": "markdown",
      "metadata": {
        "colab_type": "text",
        "id": "wDhMfqlXxAb5"
      },
      "source": [
        "### **Conditional Selection**\n",
        "\n",
        "In performing exploratory data analysis, it is important to be able to select subsets of data to perform analysis or comparisons."
      ]
    },
    {
      "attachments": {},
      "cell_type": "markdown",
      "metadata": {
        "colab_type": "text",
        "id": "w5WugPUq5zEh"
      },
      "source": [
        "**Which player scored the most Points (PTS) Per Game?**\n",
        "Here, we will return the entire row."
      ]
    },
    {
      "cell_type": "code",
      "execution_count": null,
      "metadata": {},
      "outputs": [],
      "source": []
    },
    {
      "attachments": {},
      "cell_type": "markdown",
      "metadata": {
        "colab_type": "text",
        "id": "2vr0VvlP6Ykq"
      },
      "source": [
        "We will return specific column values.\n",
        "\n",
        "Further question, what team is the player from? "
      ]
    },
    {
      "attachments": {},
      "cell_type": "markdown",
      "metadata": {},
      "source": []
    },
    {
      "attachments": {},
      "cell_type": "markdown",
      "metadata": {
        "colab_type": "text",
        "id": "wH9J90ehA77V"
      },
      "source": [
        "Which position is the player playing as?"
      ]
    },
    {
      "attachments": {},
      "cell_type": "markdown",
      "metadata": {},
      "source": []
    },
    {
      "attachments": {},
      "cell_type": "markdown",
      "metadata": {
        "colab_type": "text",
        "id": "9HFeLKDoBHF4"
      },
      "source": [
        "How many games did the player played in the season?"
      ]
    },
    {
      "cell_type": "code",
      "execution_count": null,
      "metadata": {},
      "outputs": [],
      "source": []
    },
    {
      "attachments": {},
      "cell_type": "markdown",
      "metadata": {
        "colab_type": "text",
        "id": "vIPTWp311w0D"
      },
      "source": [
        "**Which player scored more than 20 Points (PTS) Per Game?**"
      ]
    },
    {
      "cell_type": "code",
      "execution_count": null,
      "metadata": {},
      "outputs": [],
      "source": []
    },
    {
      "attachments": {},
      "cell_type": "markdown",
      "metadata": {
        "colab_type": "text",
        "id": "Da313cYi2zM3"
      },
      "source": [
        "**Which player had the highest 3-Point Field Goals Per Game (3P) ?**"
      ]
    },
    {
      "cell_type": "code",
      "execution_count": null,
      "metadata": {},
      "outputs": [],
      "source": []
    },
    {
      "attachments": {},
      "cell_type": "markdown",
      "metadata": {
        "colab_type": "text",
        "id": "kwoxuxN95XBn"
      },
      "source": [
        "**Which player had the highest Assists Per Game (AST) ?**"
      ]
    },
    {
      "cell_type": "code",
      "execution_count": null,
      "metadata": {},
      "outputs": [],
      "source": []
    },
    {
      "attachments": {},
      "cell_type": "markdown",
      "metadata": {
        "colab_type": "text",
        "id": "Vqca8kngwzfP"
      },
      "source": [
        "### **GroupBy() function**"
      ]
    },
    {
      "attachments": {},
      "cell_type": "markdown",
      "metadata": {
        "colab_type": "text",
        "id": "gCKH-MJCvRBN"
      },
      "source": [
        "**Which player scored the highest (PTS) in the Los Angeles Lakers?**"
      ]
    },
    {
      "cell_type": "code",
      "execution_count": null,
      "metadata": {},
      "outputs": [],
      "source": []
    },
    {
      "attachments": {},
      "cell_type": "markdown",
      "metadata": {
        "colab_type": "text",
        "id": "6tTfbd5cTRY9"
      },
      "source": [
        "**Of the 5 positions, which position scores the most points?**\n",
        "\n",
        "We first group players by their positions."
      ]
    },
    {
      "cell_type": "code",
      "execution_count": null,
      "metadata": {},
      "outputs": [],
      "source": []
    },
    {
      "attachments": {},
      "cell_type": "markdown",
      "metadata": {
        "colab_type": "text",
        "id": "Y2F8PR2kvmkO"
      },
      "source": [
        "We will now show only the 5 traditional positions (those having combo positions will be removed from the analysis)."
      ]
    },
    {
      "cell_type": "code",
      "execution_count": null,
      "metadata": {},
      "outputs": [],
      "source": []
    },
    {
      "attachments": {},
      "cell_type": "markdown",
      "metadata": {
        "colab_type": "text",
        "id": "2mv2BgvLxidZ"
      },
      "source": [
        "Now, let's take a look at the descriptive statistics."
      ]
    },
    {
      "cell_type": "code",
      "execution_count": null,
      "metadata": {},
      "outputs": [],
      "source": []
    },
    {
      "attachments": {},
      "cell_type": "markdown",
      "metadata": {
        "colab_type": "text",
        "id": "c-jQ8kDN0Z0A"
      },
      "source": [
        "### **Histograms**"
      ]
    },
    {
      "attachments": {},
      "cell_type": "markdown",
      "metadata": {
        "colab_type": "text",
        "id": "VzS11hEbwXlR"
      },
      "source": [
        "We'll also try to answer this question by showing some histogram plots. So, to make it a bit easier, let's create a subset dataframe."
      ]
    },
    {
      "cell_type": "code",
      "execution_count": null,
      "metadata": {},
      "outputs": [],
      "source": []
    },
    {
      "attachments": {},
      "cell_type": "markdown",
      "metadata": {
        "colab_type": "text",
        "id": "PO7UfNVVB6uc"
      },
      "source": [
        "#### **pandas built-in visualization**"
      ]
    },
    {
      "cell_type": "code",
      "execution_count": null,
      "metadata": {},
      "outputs": [],
      "source": []
    },
    {
      "attachments": {},
      "cell_type": "markdown",
      "metadata": {
        "colab_type": "text",
        "id": "U_hocRX9CAX2"
      },
      "source": [
        "#### **Seaborn data visualization**"
      ]
    },
    {
      "cell_type": "code",
      "execution_count": null,
      "metadata": {
        "colab": {
          "base_uri": "https://localhost:8080/",
          "height": 279
        },
        "colab_type": "code",
        "id": "b8zmHKg1KRp8",
        "outputId": "ba4e6f5d-fb64-49c7-a7a5-de88c9288da3"
      },
      "outputs": [],
      "source": [
        "import seaborn as sns\n",
        "import matplotlib.pyplot as plt\n",
        "\n",
        "g = sns.FacetGrid(PTS, col=\"Pos\")\n",
        "g.map(plt.hist, \"PTS\");"
      ]
    },
    {
      "attachments": {},
      "cell_type": "markdown",
      "metadata": {
        "colab_type": "text",
        "id": "JaK1fhKg03Ob"
      },
      "source": [
        "### **Box plots**"
      ]
    },
    {
      "attachments": {},
      "cell_type": "markdown",
      "metadata": {
        "colab_type": "text",
        "id": "scWFuA5E4dOm"
      },
      "source": [
        "#### **Box plot of points scored (PTS) grouped by Position**"
      ]
    },
    {
      "attachments": {},
      "cell_type": "markdown",
      "metadata": {},
      "source": []
    },
    {
      "attachments": {},
      "cell_type": "markdown",
      "metadata": {
        "colab_type": "text",
        "id": "RNnP6Bf3BuTP"
      },
      "source": [
        "##### **pandas built-in visualization**"
      ]
    },
    {
      "attachments": {},
      "cell_type": "markdown",
      "metadata": {},
      "source": []
    },
    {
      "attachments": {},
      "cell_type": "markdown",
      "metadata": {
        "colab_type": "text",
        "id": "w8DxVve0B0Kd"
      },
      "source": [
        "##### **Seaborn data visualization**"
      ]
    },
    {
      "cell_type": "code",
      "execution_count": null,
      "metadata": {
        "colab": {
          "base_uri": "https://localhost:8080/",
          "height": 296
        },
        "colab_type": "code",
        "id": "S7iNqru01ehH",
        "outputId": "64d7a48c-d806-4dba-ff96-4eedb11900d3"
      },
      "outputs": [],
      "source": [
        "import seaborn as sns\n",
        "\n",
        "sns.boxplot(x = 'Pos', y = 'PTS', data = PTS) "
      ]
    },
    {
      "cell_type": "code",
      "execution_count": null,
      "metadata": {
        "colab": {
          "base_uri": "https://localhost:8080/",
          "height": 296
        },
        "colab_type": "code",
        "id": "aeF0zocV8HOi",
        "outputId": "df3e7b19-c4c3-49d7-8762-e892c86e6dde"
      },
      "outputs": [],
      "source": [
        "sns.boxplot(x = 'Pos', y = 'PTS', data = PTS) \n",
        "sns.stripplot(x = 'Pos', y = 'PTS', data = PTS,\n",
        "              jitter=True, \n",
        "              marker='o',\n",
        "              alpha=0.8, \n",
        "              color=\"black\")"
      ]
    },
    {
      "attachments": {},
      "cell_type": "markdown",
      "metadata": {
        "colab_type": "text",
        "id": "WJaX_LkAZGyt"
      },
      "source": [
        "### **Heat map**"
      ]
    },
    {
      "attachments": {},
      "cell_type": "markdown",
      "metadata": {
        "colab_type": "text",
        "id": "SjKgdqh4cVi0"
      },
      "source": [
        "#### Compute the correlation matrix"
      ]
    },
    {
      "attachments": {},
      "cell_type": "markdown",
      "metadata": {},
      "source": []
    },
    {
      "attachments": {},
      "cell_type": "markdown",
      "metadata": {
        "colab_type": "text",
        "id": "ZSjodkgJcYGJ"
      },
      "source": [
        "#### Make the heat map"
      ]
    },
    {
      "attachments": {},
      "cell_type": "markdown",
      "metadata": {},
      "source": []
    },
    {
      "attachments": {},
      "cell_type": "markdown",
      "metadata": {
        "colab_type": "text",
        "id": "95ovHWzzcaNg"
      },
      "source": [
        "#### Adjust figure size of heat map"
      ]
    },
    {
      "cell_type": "code",
      "execution_count": null,
      "metadata": {
        "colab": {
          "base_uri": "https://localhost:8080/",
          "height": 360
        },
        "colab_type": "code",
        "id": "HUzMq_HTcBO3",
        "outputId": "ad9ad510-8049-4f59-841a-c810c022a145"
      },
      "outputs": [],
      "source": [
        "import seaborn as sns\n",
        "import matplotlib.pyplot as plt\n",
        "\n",
        "fig, ax = plt.subplots(figsize=(7,5))\n",
        "sns.heatmap(corr, square=True)"
      ]
    },
    {
      "attachments": {},
      "cell_type": "markdown",
      "metadata": {
        "colab_type": "text",
        "id": "usGhMrEmce19"
      },
      "source": [
        "#### Mask diagonal half of heat map (Diagonal correlation matrix)"
      ]
    },
    {
      "cell_type": "code",
      "execution_count": null,
      "metadata": {
        "colab": {
          "base_uri": "https://localhost:8080/",
          "height": 343
        },
        "colab_type": "code",
        "id": "GqzohV6ybWSH",
        "outputId": "70f3c0c1-5d9e-415e-bcc9-d11e536ba94c"
      },
      "outputs": [],
      "source": [
        "# https://seaborn.pydata.org/generated/seaborn.heatmap.html\n",
        "\n",
        "import numpy as np\n",
        "import seaborn as sns\n",
        "\n",
        "mask = np.zeros_like(corr)\n",
        "mask[np.triu_indices_from(mask)] = True\n",
        "with sns.axes_style(\"white\"):\n",
        "    f, ax = plt.subplots(figsize=(7, 5))\n",
        "    ax = sns.heatmap(corr, mask=mask, vmax=1, square=True)"
      ]
    },
    {
      "attachments": {},
      "cell_type": "markdown",
      "metadata": {
        "colab_type": "text",
        "id": "e7NK5ogEL3Pb"
      },
      "source": [
        "### **Scatter Plot**"
      ]
    },
    {
      "cell_type": "code",
      "execution_count": null,
      "metadata": {
        "colab": {
          "base_uri": "https://localhost:8080/",
          "height": 419
        },
        "colab_type": "code",
        "id": "fsWIQcBcOoM2",
        "outputId": "96d25c4c-045b-4850-94d3-1389f1c5cbef"
      },
      "outputs": [],
      "source": [
        "df"
      ]
    },
    {
      "attachments": {},
      "cell_type": "markdown",
      "metadata": {
        "colab_type": "text",
        "id": "zYihuJ1ITpPA"
      },
      "source": [
        "#### Select columns if they have numerical data types"
      ]
    },
    {
      "cell_type": "code",
      "execution_count": null,
      "metadata": {},
      "outputs": [],
      "source": []
    },
    {
      "attachments": {},
      "cell_type": "markdown",
      "metadata": {
        "colab_type": "text",
        "id": "BdgDVlAPTk4f"
      },
      "source": [
        "#### Select the first 5 columns (by index number)"
      ]
    },
    {
      "attachments": {},
      "cell_type": "markdown",
      "metadata": {},
      "source": []
    },
    {
      "attachments": {},
      "cell_type": "markdown",
      "metadata": {
        "colab_type": "text",
        "id": "Pda7MJ2oUn-I"
      },
      "source": [
        "#### Select 5 specific columns (by column names)"
      ]
    },
    {
      "cell_type": "code",
      "execution_count": null,
      "metadata": {
        "colab": {
          "base_uri": "https://localhost:8080/",
          "height": 419
        },
        "colab_type": "code",
        "id": "g3dawTyNUqgP",
        "outputId": "76e34baa-b5b7-4f02-d7ed-793e3c4b391b"
      },
      "outputs": [],
      "source": [
        "selections = ['Age', 'G', 'STL', 'BLK', 'AST', 'PTS']"
      ]
    },
    {
      "attachments": {},
      "cell_type": "markdown",
      "metadata": {
        "colab_type": "text",
        "id": "ppSU4uyVXnMA"
      },
      "source": [
        "#### Make scatter plot grid"
      ]
    },
    {
      "attachments": {},
      "cell_type": "markdown",
      "metadata": {
        "colab_type": "text",
        "id": "KrcVJrAQX8xf"
      },
      "source": [
        "##### 5 columns"
      ]
    },
    {
      "cell_type": "code",
      "execution_count": null,
      "metadata": {},
      "outputs": [],
      "source": []
    },
    {
      "attachments": {},
      "cell_type": "markdown",
      "metadata": {
        "colab_type": "text",
        "id": "6u3-OUokX3Sn"
      },
      "source": [
        "##### All columns"
      ]
    },
    {
      "cell_type": "code",
      "execution_count": null,
      "metadata": {},
      "outputs": [],
      "source": []
    }
  ],
  "metadata": {
    "colab": {
      "collapsed_sections": [],
      "name": "pandas-exploratory-data-analysis.ipynb",
      "provenance": []
    },
    "kernelspec": {
      "display_name": "Python 3",
      "name": "python3"
    },
    "language_info": {
      "codemirror_mode": {
        "name": "ipython",
        "version": 3
      },
      "file_extension": ".py",
      "mimetype": "text/x-python",
      "name": "python",
      "nbconvert_exporter": "python",
      "pygments_lexer": "ipython3",
      "version": "3.11.2"
    }
  },
  "nbformat": 4,
  "nbformat_minor": 0
}
